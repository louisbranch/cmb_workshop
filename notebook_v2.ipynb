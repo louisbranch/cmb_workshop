{
 "cells": [
  {
   "cell_type": "code",
   "execution_count": 1,
   "metadata": {},
   "outputs": [],
   "source": [
    "from IPython.display import IFrame\n",
    "\n",
    "%matplotlib inline\n",
    "%reload_ext autoreload\n",
    "%autoreload 2\n",
    "\n",
    "from cmb import layout, plot, tester, widgets\n",
    "layout.set_custom_layout()\n",
    "\n",
    "# FIXME: remove temporary import\n",
    "from cmb import functions"
   ]
  },
  {
   "cell_type": "markdown",
   "metadata": {},
   "source": [
    "# CMB Workshop\n",
    "\n",
    "## Activity Overview\n",
    "\n",
    "In this workshop, you will learn about the CMB and its significance in cosmology. You'll start by understanding some basic physics concepts, like black body radiation and Wien's Law. Then, you'll explore how scientists study the CMB using real data from space missions. You'll also get hands-on experience with Python programming to analyze and visualize this data.\n",
    "\n",
    "By the end of this workshop, you'll have a better understanding of the early universe and the tools scientists use to study it. Let's get started!\n",
    "\n",
    "### Learning Goals\n",
    "\n",
    "By the end of this notebook, you should be able to:\n",
    "\n",
    "1. **Basics of the Cosmic Microwave Background (CMB):**\n",
    "   - Describe what the CMB is and why it’s important.\n",
    "   - Explain how the CMB was formed.\n",
    "\n",
    "2. **Black Body Radiation:**\n",
    "   - Define black body radiation.\n",
    "   - Use Planck's Law to calculate radiation.\n",
    "   - Explain Wien's Law and its relation to temperature.\n",
    "\n",
    "3. **Astronomical Data Analysis:**\n",
    "   - Create and interpret black body radiation graphs.\n",
    "   - Analyze data from the COBE satellite.\n",
    "\n",
    "4. **Doppler Effect and Universe Expansion:**\n",
    "   - Explain the Doppler effect.\n",
    "   - Understand redshift and its evidence for the expanding universe.\n",
    "\n",
    "5. **Working with Real CMB Data:**\n",
    "   - Load and visualize CMB maps.\n",
    "   - Compute and understand temperature fluctuations in the CMB.\n",
    "   - Identify features in CMB maps.\n",
    "\n",
    "6. **Python Programming Skills (Optional Challenge):**\n",
    "   - Write Python functions for physics equations.\n",
    "   - Use Python for data visualization and analysis."
   ]
  },
  {
   "cell_type": "markdown",
   "metadata": {},
   "source": [
    "## Introduction\n",
    "\n",
    "### The Cosmic Microwave Background (CMB)\n",
    "\n",
    "The Cosmic Microwave Background (CMB) is the afterglow of the Big Bang, the event that created our universe around 13.8 billion years ago. This faint glow fills the entire sky and is one of the most important pieces of evidence for the Big Bang theory. It tells us about the early universe when it was just a hot, dense soup of particles.\n",
    "\n",
    "#### What is the CMB?\n",
    "\n",
    "The CMB is a form of electromagnetic radiation, just like visible light, but it is in the microwave part of the spectrum. It was created when the universe was only 379,000 years old and has been traveling through space ever since. By studying the CMB, scientists can learn about the conditions of the early universe and how it has evolved over time.\n",
    "\n",
    "#### Formation of the CMB\n",
    "\n",
    "In the early universe, everything was so hot that atoms couldn't exist; protons and electrons were separate particles. As the universe expanded and cooled, these particles combined to form neutral hydrogen atoms. This process, called recombination, allowed light to travel freely through space for the first time, creating the CMB.\n",
    "\n",
    "#### Discovery of the CMB\n",
    "\n",
    "The CMB was discovered accidentally in 1964 by two radio astronomers, Arno Penzias and Robert Wilson. They were working on a radio telescope and found a mysterious noise that came from all directions in the sky. This noise turned out to be the CMB, confirming predictions made by earlier scientists and providing strong evidence for the Big Bang theory.\n",
    "\n",
    "<figure>\n",
    "<img src=\"media/horn.jpg\" height=\"400\"/>\n",
    "<figcaption>This is the Bell Labs' horn antenna. This is the radio telescope that first measured the CMB. This photo is from April 2007. <a href=\"https://commons.wikimedia.org/wiki/File:Bell_Labs_Horn_Antenna_Crawford_Hill_NJ.jpg\">Source.</a></figcaption>\n",
    "</figure>"
   ]
  },
  {
   "cell_type": "markdown",
   "metadata": {},
   "source": [
    "## Understanding Cosmic Light\n",
    "\n",
    "### Black Body Radiation\n",
    "\n",
    "Black body radiation describes the light emitted by an object that absorbs all light falling on it. This ideal object, called a \"black body,\" re-emits light in a pattern that depends only on its temperature. Understanding black body radiation helps us learn about stars and the Cosmic Microwave Background (CMB).\n",
    "\n",
    "Planck's Law describes how much light a black body emits at different wavelengths. The formula is:\n",
    "\n",
    "$B(\\lambda, T) = \\frac{2hc^2}{\\lambda^5} \\frac{1}{\\exp\\left(\\frac{hc}{\\lambda kT}\\right) - 1}$\n",
    "\n",
    "with the spectral radiance $B(\\lambda, T)$ given in units of $W \\cdot m^{-2} \\cdot sr^{-1} \\cdot m^{-1}$. Here:\n",
    "* $h$ is the Planck constant ($6.626 \\times 10^{-34}$ J s)\n",
    "* $c$ is the speed of light in a vacuum ($3.00 \\times 10^8$ m/s)\n",
    "* $k$ is the Boltzmann constant ($1.381 \\times 10^{-23}$ J/K)\n",
    "* $T$ is the absolute temperature of the black body in Kelvin (K)\n",
    "* $\\lambda$ is the wavelength in meters (m).\n",
    "\n",
    "##### Optional Challenge: Write your own implementation of Planck's Law:\n",
    "\n",
    "Try implementing Planck's Law in Python to see how much light is emitted at different wavelengths and temperatures."
   ]
  },
  {
   "cell_type": "code",
   "execution_count": 2,
   "metadata": {},
   "outputs": [],
   "source": [
    "def blackbody_radiation(wavelength, temp):\n",
    "    \"\"\"\n",
    "    Your implementation of the black body radiation law equation using wavelength in meters.\n",
    "    \n",
    "    Parameters:\n",
    "    - wavelength: Wavelength of the radiation (in meters).\n",
    "    - temp: Temperature of the black body (in Kelvin).\n",
    "    \n",
    "    Returns:\n",
    "    - Spectral radiance of the black body (in W/m^2/sr/nm). Return None by default as a placeholder.\n",
    "    \"\"\"\n",
    "    # Reminder of the Planck's law formula in SI units:\n",
    "    # B(lambda, T) = (2hc^2 / lambda^5) * 1 / (exp(hc / (lambda kT)) - 1)\n",
    "    # where h = 6.626e-34 (J·s), c = 3e8 (m/s), k = 1.381e-23 (J/K),\n",
    "    # lambda is in meters, and T is in Kelvin.\n",
    "\n",
    "    # Hint: In Python, use '**' to denote exponentiation. For example, c squared is written as c**2.\n",
    "    # NumPy's exp function (np.exp) is used for exponential calculations. For e^x, you write np.exp(x).\n",
    "\n",
    "    h = 6.62607015e-34  # Planck constant, J·s\n",
    "    c = 299792458       # Speed of light, m/s\n",
    "    k = 1.380649e-23    # Boltzmann constant, J/K\n",
    "\n",
    "    # Your implementation here.\n",
    "\n",
    "    # Remember to return your calculated spectral radiance.\n",
    "\n",
    "    # FIXME: remove temporary implementation\n",
    "    return functions.blackbody_radiation(wavelength, temp)\n",
    "\n",
    "    #return None"
   ]
  },
  {
   "cell_type": "code",
   "execution_count": 3,
   "metadata": {},
   "outputs": [
    {
     "name": "stdout",
     "output_type": "stream",
     "text": [
      "All tests passed! Your implementation appears to be correct.\n"
     ]
    }
   ],
   "source": [
    "# Test your implementation of the Planck's Law\n",
    "print(tester.test_blackbody_radiation(blackbody_radiation))"
   ]
  },
  {
   "cell_type": "markdown",
   "metadata": {},
   "source": [
    "#### Visualizing the Black Body Radiation"
   ]
  },
  {
   "cell_type": "code",
   "execution_count": 4,
   "metadata": {},
   "outputs": [
    {
     "data": {
      "application/vnd.jupyter.widget-view+json": {
       "model_id": "623c835eca3f4973b7d0e5a575146954",
       "version_major": 2,
       "version_minor": 0
      },
      "text/plain": [
       "interactive(children=(FloatSlider(value=5778.0, description='Temperature (K):', layout=Layout(width='45%'), ma…"
      ]
     },
     "metadata": {},
     "output_type": "display_data"
    }
   ],
   "source": [
    "widgets.blackbody_radiation(blackbody_radiation)"
   ]
  },
  {
   "cell_type": "markdown",
   "metadata": {},
   "source": [
    "##### Think and Reflect:\n",
    "1. What changes do you notice in the curve when the temperature is increased? \n",
    "2. How about when it is decreased?"
   ]
  },
  {
   "cell_type": "markdown",
   "metadata": {},
   "source": [
    "### Peak Wavelength and Wien's Law\n",
    "\n",
    "After exploring the black body radiation curves, you've seen how the peak of the radiation curve shifts with changes in temperature. This movement isn't random; it's described by Wien's Displacement Law. Wien's Law tells us the wavelength at which the radiation from a black body (like a star, including our Sun) is most intense, and this wavelength is inversely related to the temperature of the body.\n",
    "\n",
    "Wien's Law can be stated mathematically as:\n",
    "\n",
    "$\\lambda_{\\text{max}} = \\frac{b}{T}$\n",
    "\n",
    "where:\n",
    "- $\\lambda_{\\text{max}}$ is the peak wavelength — the wavelength at which the emission is strongest,\n",
    "- $T$ is the absolute temperature of the black body (in Kelvin),\n",
    "- $b$ is Wien's displacement constant, approximately $2.897 \\times 10^{-3}$ m·K (meter-Kelvin).\n",
    "\n",
    "This law reveals an important insight: as a black body gets hotter, its peak emission shifts to shorter wavelengths. This is why, for example, a heating metal glows red and then white as its temperature increases.\n",
    "\n",
    "#### Practical Implication\n",
    "\n",
    "In astronomy, Wien's Law enables us to determine the surface temperature of stars by observing the color of the light they emit. A star emitting peak radiation at shorter wavelengths (more towards the blue end of the spectrum) is hotter than a star emitting peak radiation at longer wavelengths (more towards the red end of the spectrum).\n",
    "\n",
    "#### Optional Challenge: Implementing Wien's Law\n",
    "\n",
    "Let’s implement Wien's Law to calculate the peak wavelength for a given temperature."
   ]
  },
  {
   "cell_type": "code",
   "execution_count": 5,
   "metadata": {},
   "outputs": [],
   "source": [
    "def peak_wavelength(temp):\n",
    "    \"\"\"\n",
    "    Your implementation of Wien's Law to calculate the peak wavelength.\n",
    "    \n",
    "    Parameters:\n",
    "    - temp: The absolute temperature of the black body (in Kelvin).\n",
    "    \n",
    "    Returns:\n",
    "    - The peak wavelength (in meters). Return None by default as a placeholder.\n",
    "    \"\"\"\n",
    "    b = 2.897e-3  # Wien's displacement constant, m·K\n",
    "\n",
    "    # Your implementation here.\n",
    "\n",
    "    # Remember to return your calculated peak wavelength\n",
    "\n",
    "    # FIXME: remove temporary implementation\n",
    "    return functions.peak_wavelength(temp)\n",
    "\n",
    "    #return None"
   ]
  },
  {
   "cell_type": "code",
   "execution_count": 6,
   "metadata": {},
   "outputs": [
    {
     "name": "stdout",
     "output_type": "stream",
     "text": [
      "All tests passed! Your implementation appears to be correct.\n"
     ]
    }
   ],
   "source": [
    "# Test your implementation of the Wien's Law\n",
    "print(tester.test_peak_wavelength(peak_wavelength))"
   ]
  },
  {
   "cell_type": "markdown",
   "metadata": {},
   "source": [
    "#### Visualizing the Peak Wavelength"
   ]
  },
  {
   "cell_type": "code",
   "execution_count": 7,
   "metadata": {},
   "outputs": [
    {
     "data": {
      "application/vnd.jupyter.widget-view+json": {
       "model_id": "82a7b9c1e0be4367a71dcecc5ca33bc2",
       "version_major": 2,
       "version_minor": 0
      },
      "text/plain": [
       "interactive(children=(FloatSlider(value=5778.0, description='Temperature (K):', layout=Layout(width='45%'), ma…"
      ]
     },
     "metadata": {},
     "output_type": "display_data"
    }
   ],
   "source": [
    "widgets.peak_wavelength(blackbody_radiation, peak_wavelength)"
   ]
  },
  {
   "cell_type": "markdown",
   "metadata": {},
   "source": [
    "#### The Visible Light Spectrum\n",
    "\n",
    "The visible light spectrum is the range of electromagnetic waves that can be detected by the human eye. It includes all the colors we see in a rainbow, from violet to red. Each color corresponds to a specific range of wavelengths.\n",
    "\n",
    "Let's zoom in on the black body radiation spectrum to see how the different colors fit within the electromagnetic spectrum. This will help us understand the relationship between temperature and the color of light emitted by objects."
   ]
  },
  {
   "cell_type": "code",
   "execution_count": 8,
   "metadata": {},
   "outputs": [
    {
     "data": {
      "image/png": "[encoded data removed]",
      "text/plain": [
       "<Figure size 2000x200 with 1 Axes>"
      ]
     },
     "metadata": {},
     "output_type": "display_data"
    }
   ],
   "source": [
    "plot.visibile_wavelengths()"
   ]
  },
  {
   "cell_type": "markdown",
   "metadata": {},
   "source": [
    "##### Think and Reflect:\n",
    "1. What happens to the peak wavelength when the temperature is decreased? How might this affect the appearance of a star as it cools down?\n",
    "2. Can you think of everyday examples where changes in temperature lead to changes in color similar to those described by Wien's Law?"
   ]
  },
  {
   "cell_type": "markdown",
   "metadata": {},
   "source": [
    "## Expansion of the Universe\n",
    "\n",
    "### The Doppler Effect\n",
    "\n",
    "The Doppler effect is a phenomenon that occurs when there is relative motion between a source of waves and an observer. You may have noticed it with sound: for example, the siren of an ambulance sounds higher-pitched as it approaches you and lower-pitched as it moves away. This change in pitch happens because the sound waves are compressed as the ambulance approaches and stretched as it moves away.\n",
    "\n",
    "<figure>\n",
    "<img src=\"media/doppler_effect.png\" />\n",
    "<figcaption>The figure shows a moving ambulence, its moving to the right. The sound waves from the siren are compressed in the direction of travel, and streched in the direction the ambulence is leaving. <a href=\"https://online-learning-college.com/knowledge-hub/gcses/gcse-physics-help/doppler-effect/\">Source.</a></figcaption>\n",
    "</figure>\n",
    "\n",
    "### Redshift and the Expanding Universe\n",
    "\n",
    "The Doppler effect also applies to light waves. When a light source moves away from us, its light waves are stretched, making the light appear redder. This is called redshift. Conversely, if a light source moves toward us, its light waves are compressed, making the light appear bluer, which is called blueshift.\n",
    "\n",
    "Redshift is a key piece of evidence for the expanding universe. By observing the redshift of light from distant galaxies, scientists have concluded that the universe is expanding. The further away a galaxy is, the faster it appears to be moving away from us, indicating that space itself is stretching.\n",
    "\n",
    "<figure>\n",
    "<img src=\"media/receding.gif\" />\n",
    "<figcaption>The above figure shows how the light from two galaxys moving away from eachother appears redshifted. This is the radio telescope that first measured the CMB. This photo is from April 2007. <a href=\"https://www.astro.ucla.edu/~wright/cosmo_01.htm\">Source.</a></figcaption>\n",
    "</figure>\n",
    "\n",
    "\n",
    "##### Visualizing Redshift\n",
    "\n",
    "Let's look at how redshift works with an interactive plot.\n"
   ]
  },
  {
   "cell_type": "code",
   "execution_count": 9,
   "metadata": {},
   "outputs": [
    {
     "data": {
      "application/vnd.jupyter.widget-view+json": {
       "model_id": "1cad79fb3f19468f97bdaeb885f026ca",
       "version_major": 2,
       "version_minor": 0
      },
      "text/plain": [
       "VBox(children=(HBox(children=(FloatSlider(value=0.0, description='Velocity (m/s):', layout=Layout(width='45%')…"
      ]
     },
     "metadata": {},
     "output_type": "display_data"
    }
   ],
   "source": [
    "widgets.redshift()"
   ]
  },
  {
   "cell_type": "markdown",
   "metadata": {},
   "source": [
    "#### Think and Reflect\n",
    "\n",
    "1. How does the redshift of light help us understand the movement of galaxies?\n",
    "2. Why is redshift important evidence for the expanding universe?"
   ]
  },
  {
   "cell_type": "markdown",
   "metadata": {},
   "source": [
    "### Analyzing COBE Data Spectrum\n",
    "\n",
    "The Cosmic Background Explorer (COBE) was a satellite launched by NASA in 1989 to measure the diffuse infrared and microwave radiation from the early universe. One of its key discoveries was the detailed measurement of the Cosmic Microwave Background (CMB) radiation, which closely matches the spectrum of a perfect black body.\n",
    "\n",
    "In this activity, you'll use real data from the COBE mission. By adjusting the temperature of a black body radiation curve, you can see how well it fits the actual measurements. The goal is to find the temperature that best matches the COBE data points.\n",
    "\n",
    "### Interactive Analysis with COBE Data\n",
    "\n",
    "Let's visualize the COBE data points and fit a black body radiation curve to them by adjusting the temperature."
   ]
  },
  {
   "cell_type": "code",
   "execution_count": 20,
   "metadata": {},
   "outputs": [
    {
     "data": {
      "application/vnd.jupyter.widget-view+json": {
       "model_id": "f0a3bbcf045b42aaae51ab1c683f73b7",
       "version_major": 2,
       "version_minor": 0
      },
      "text/plain": [
       "SelectionSlider(continuous_update=False, description='As hot as:', index=2, layout=Layout(width='45%'), option…"
      ]
     },
     "metadata": {},
     "output_type": "display_data"
    },
    {
     "data": {
      "application/vnd.jupyter.widget-view+json": {
       "model_id": "c9a0877a0d79454e924428e585fd201c",
       "version_major": 2,
       "version_minor": 0
      },
      "text/plain": [
       "FloatSlider(value=300.0, continuous_update=False, description='Temperature (K):', layout=Layout(width='45%'), …"
      ]
     },
     "metadata": {},
     "output_type": "display_data"
    },
    {
     "data": {
      "application/vnd.jupyter.widget-view+json": {
       "model_id": "640d85d7d00a44459142d68b7e7e849b",
       "version_major": 2,
       "version_minor": 0
      },
      "text/plain": [
       "Output()"
      ]
     },
     "metadata": {},
     "output_type": "display_data"
    }
   ],
   "source": [
    "widgets.cobe_fit(blackbody_radiation)"
   ]
  },
  {
   "cell_type": "markdown",
   "metadata": {},
   "source": [
    "\n",
    "### Reflecting on Your Learning\n",
    "\n",
    "- Can I explain what the CMB is and its significance?\n",
    "- Can I describe how the CMB was formed?\n",
    "- Am I comfortable with Planck's Law and Wien's Law?\n",
    "- Have I understood black body radiation graphs?\n",
    "- Do I understand the Doppler effect and redshift?\n",
    "- Can I analyze and identify features in real CMB data?\n",
    "- Have I improved my Python programming skills (if I chose to do the optional exercises)?"
   ]
  }
 ],
 "metadata": {
  "kernelspec": {
   "display_name": "astro",
   "language": "python",
   "name": "python3"
  },
  "language_info": {
   "codemirror_mode": {
    "name": "ipython",
    "version": 3
   },
   "file_extension": ".py",
   "mimetype": "text/x-python",
   "name": "python",
   "nbconvert_exporter": "python",
   "pygments_lexer": "ipython3",
   "version": "3.11.6"
  }
 },
 "nbformat": 4,
 "nbformat_minor": 2
}
